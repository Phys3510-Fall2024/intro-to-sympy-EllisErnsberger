{
 "cells": [
  {
   "cell_type": "markdown",
   "id": "4924c49a-a6ff-48b3-b0a4-a55bbd95683e",
   "metadata": {},
   "source": [
    "## Testing the transient solution to the damped harmonic oscillator ##\n",
    "\n",
    "We want to check that\n",
    "\n",
    "$Q_{tr} = e^{-\\gamma t} [A cos(\\omega_\\gamma t) + B sin(\\omega_\\gamma t)]$\n",
    "\n",
    "is a solution to \n",
    "\n",
    "$\\ddot{Q} + 2_\\gamma \\dot{Q} +\\omega_0 ^ 2 Q = 0$"
   ]
  },
  {
   "cell_type": "code",
   "execution_count": 1,
   "id": "d582d192-fbec-4f0a-ae22-ffb6d6d2f57b",
   "metadata": {},
   "outputs": [
    {
     "data": {
      "text/plain": [
       "True"
      ]
     },
     "execution_count": 1,
     "metadata": {},
     "output_type": "execute_result"
    }
   ],
   "source": [
    "#import needed modules/libraries --> sympy\n",
    "import sympy as sp\n",
    "#print(dir(sp))\n",
    "#help(sp.symbols)\n",
    "\n",
    "#define all needed variables\n",
    "A, B, omega_0, omega_gamma, gamma, t = sp.symbols(\"A, B, omega_0, omega_gamma, gamma, t\")\n",
    "\n",
    "Q = sp.Function(\"Q\")(t)\n",
    "\n",
    "\n",
    "#define the differential equation as the left-hand side (which must equal zero when F_0=0\n",
    "diff_eqn_ref = sp.diff(Q, t, 2) + 2*gamma*sp.diff(Q, t, 1) + (omega_0**2)*Q\n",
    "\n",
    "\n",
    "#define our guess for the solution\n",
    "#Q_tr_guess\n",
    "Q_tr_guess = sp.exp(-gamma*t)*(A*sp.cos(omega_gamma*t) + B*sp.sin(omega_gamma*t) )\n",
    "omega_gamma_expr = sp.sqrt(omega_0**2 - gamma**2)\n",
    "\n",
    "#plug our guess into the differential equation; includes taking derivatives\n",
    "diff_eqn_test = sp.diff(Q_tr_guess, t, 2) + 2*gamma*sp.diff(Q_tr_guess, t, 1) + (omega_0**2)*Q_tr_guess\n",
    "diff_eqn_test\n",
    "#print(dir(diff_eqn_test))\n",
    "#diff_eqn_test.simplify()\n",
    "#help(diff_eqn_test.subs)\n",
    "#diff_eqn_test.subs(omega_gamma, omega_gamma_expr)\n",
    "test_result = diff_eqn_test.subs(omega_gamma, omega_gamma_expr).simplify().is_zero\n",
    "test_result"
   ]
  },
  {
   "cell_type": "markdown",
   "id": "d9235782-8f38-4274-8dcb-e2b320f67d7f",
   "metadata": {},
   "source": [
    "## Deriving the steady solution to the damped, driven harmonic oscillator ##\n",
    "\n",
    "We ant to solve\n",
    "\n",
    "$\\ddot{Q} + 2_\\gamma \\dot{Q} +\\omega_0 ^ 2 Q = 0 = (F_0/m) e^{i\\omega t}$\n",
    "\n",
    "with\n",
    "\n",
    "$Q = C e^{i\\omega t}$"
   ]
  },
  {
   "cell_type": "code",
   "execution_count": 2,
   "id": "5eced689-2094-4fd1-b01e-c0674382ce88",
   "metadata": {},
   "outputs": [],
   "source": [
    "#import need modules/packages --> sympy\n",
    "import sympy as sp\n",
    "\n",
    "#define all needed variables\n",
    "omega_0, gamma, gamma, t, F_0, m, omega = sp.symbols(\"omega_0, gamma, gamma, t, F_0, m, omega\")\n",
    "C = sp.symbols(\"C\",complex=True)\n",
    "Q = sp.Function(\"Q\")(t)\n",
    "F = sp.Function(\"F\")(t)\n",
    "Q\n",
    "\n",
    "#define the differential equation\n",
    "diff_eqn_ref = sp.Eq(\n",
    "    sp.diff(Q, t, 2) + 2*gamma*sp.diff(Q, t, 1) + (omega_0**2)*Q, #Left-hand side\n",
    "    F/m #Right-hand side\n",
    ")\n",
    "\n",
    "#define our guess for the solution\n",
    "Q_st_guess = C*sp.exp(sp.I*omega*t)\n",
    "drive_expr = (F_0/m)*sp.exp(sp.I*omega*t)\n",
    "drive_expr\n",
    "\n",
    "#plug in our guess\n",
    "diff_eqn_guess = sp.Eq(\n",
    "    sp.diff(Q_st_guess, t, 2) + 2*gamma*sp.diff(Q_st_guess, t, 1) + (omega_0**2)*Q_st_guess, #Left-hand side\n",
    "    drive_expr #Right-hand side\n",
    ")\n",
    "sp.solve(diff_eqn_guess,C)[0]\n",
    "\n",
    "#solve for the coefficient C\n",
    "C_sol = sp.solve(diff_eqn_guess,C)[0]\n",
    "\n",
    "#find the real part of the solution\n",
    "Q_sol = sp.re(\n",
    "    sp.expand_complex(C_sol*sp.exp(sp.I*omega*t)).simplify()\n",
    ")\n",
    "\n",
    "#plug the real part of the solution into the differential equation\n",
    "\n",
    "\n",
    "#test the alternative, analytic form of the solution\n",
    "\n"
   ]
  },
  {
   "cell_type": "code",
   "execution_count": null,
   "id": "4057c09d-ad94-45d8-9f8c-64eb8ff97608",
   "metadata": {},
   "outputs": [],
   "source": []
  }
 ],
 "metadata": {
  "kernelspec": {
   "display_name": "Python 3 (ipykernel)",
   "language": "python",
   "name": "python3"
  },
  "language_info": {
   "codemirror_mode": {
    "name": "ipython",
    "version": 3
   },
   "file_extension": ".py",
   "mimetype": "text/x-python",
   "name": "python",
   "nbconvert_exporter": "python",
   "pygments_lexer": "ipython3",
   "version": "3.9.19"
  }
 },
 "nbformat": 4,
 "nbformat_minor": 5
}
